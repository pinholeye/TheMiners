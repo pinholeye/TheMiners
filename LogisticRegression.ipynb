{
 "cells": [
  {
   "cell_type": "code",
   "execution_count": 169,
   "metadata": {},
   "outputs": [],
   "source": [
    "import pandas as pd\n",
    "import matplotlib as mpl\n",
    "import matplotlib.pyplot as plt\n",
    "import numpy as np\n",
    "from sklearn.model_selection import train_test_split\n",
    "from sklearn.linear_model import LogisticRegression\n",
    "from sklearn.metrics import classification_report, confusion_matrix\n",
    "import seaborn as sns\n",
    "from sklearn import metrics"
   ]
  },
  {
   "cell_type": "code",
   "execution_count": 195,
   "metadata": {},
   "outputs": [
    {
     "name": "stdout",
     "output_type": "stream",
     "text": [
      "701\n",
      "479\n",
      "101\n",
      "78\n",
      "45\n"
     ]
    }
   ],
   "source": [
    "munchen = pd.read_csv('/Users/christine/Desktop/DataScienceProject/München2017Prozente.csv', encoding= 'utf-8', sep=',', header=0)\n",
    "dresden =  pd.read_csv('/Users/christine/Desktop/DataScienceProject/Dresden2017Prozente.csv', encoding= 'utf-8', sep=',', header=0)\n",
    "frankfurt = pd.read_csv('/Users/christine/Desktop/DataScienceProject/Frankfurt2017Prozente.csv', encoding= 'utf-8', sep=',', header=0)\n",
    "hamburg = pd.read_csv('/Users/christine/Desktop/DataScienceProject/Hamburg2017Prozente.csv', encoding= 'utf-8', sep=',', header=0)\n",
    "columns = ['Stadt', 'Stadtteilname', 'CDU', 'SPD', 'Grüne', 'FDP', 'AfD',\n",
    "       'Linke', 'Piraten']\n",
    "data = pd.DataFrame(columns=columns)\n",
    "for i in range(0, len(munchen)):\n",
    "    data.at[i, 'Stadt'] = 'München'\n",
    "    data.at[i, 'Stadtteilname'] = float(munchen.loc[i, 'Stadtteilname'])\n",
    "    data.at[i, 'CDU'] = float((munchen.loc[i, 'CDU'][:-1]).replace(',', '.'))\n",
    "    data.at[i, 'SPD'] = float((munchen.loc[i, 'SPD'][:-1]).replace(',', '.'))\n",
    "    data.at[i, 'Grüne'] = float((munchen.loc[i, 'Grüne'][:-1][:-1]).replace(',', '.'))\n",
    "    data.at[i, 'FDP'] = float((munchen.loc[i, 'FDP'][:-1]).replace(',', '.'))\n",
    "    data.at[i, 'AfD'] = float((munchen.loc[i, 'AfD'][:-1]).replace(',', '.'))\n",
    "    data.at[i, 'Linke'] = float((munchen.loc[i, 'Linke'][:-1]).replace(',', '.'))\n",
    "    data.at[i, 'Piraten'] = float((munchen.loc[i, 'Piraten'][:-1]).replace(',', '.'))\n",
    "data1 = data.copy()    \n",
    "for i in range(0, len(frankfurt)):\n",
    "    j = i + len(data1)\n",
    "    data.at[j, 'Stadt'] = 'Frankfurt'\n",
    "    data.at[j, 'Stadtteilname'] = frankfurt.loc[i, 'Stadtteilname']\n",
    "    data.at[j, 'CDU'] = float((frankfurt.loc[i, 'CDU']).replace(',', '.'))\n",
    "    data.at[j, 'SPD'] = float((frankfurt.loc[i, 'SPD']).replace(',', '.'))\n",
    "    data.at[j, 'Grüne'] = float((frankfurt.loc[i, 'Grüne']).replace(',', '.'))\n",
    "    data.at[j, 'FDP'] = float((frankfurt.loc[i, 'FDP']).replace(',', '.'))\n",
    "    data.at[j, 'AfD'] = float((frankfurt.loc[i, 'AfD']).replace(',', '.'))\n",
    "    data.at[j, 'Linke'] = float((frankfurt.loc[i, 'Linke']).replace(',', '.'))\n",
    "    data.at[j, 'Piraten'] = float((frankfurt.loc[i, 'Piraten']).replace(',', '.'))\n",
    "data1 = data.copy()    \n",
    "for i in range(0, 99):\n",
    "    j = i + len(data1)\n",
    "    data.at[j, 'Stadt'] = 'Hamburg'\n",
    "    data.at[j, 'Stadtteilname'] = hamburg.loc[i, 'Stadtteilname']\n",
    "    if(isinstance(hamburg.loc[i, 'CDU'], str)):\n",
    "        data.at[j, 'CDU'] = float((hamburg.loc[i, 'CDU']).replace(',', '.'))\n",
    "    else:\n",
    "        data.at[j, 'CDU'] = np.nan\n",
    "    if(isinstance(hamburg.loc[i, 'SPD'], str)):\n",
    "        data.at[j, 'SPD'] = float((hamburg.loc[i, 'SPD']).replace(',', '.'))\n",
    "    else:\n",
    "        data.at[j, 'SPD'] =  np.nan\n",
    "    if(isinstance(hamburg.loc[i, 'Grüne'], str)):\n",
    "        data.at[j, 'Grüne'] = float((hamburg.loc[i, 'Grüne']).replace(',', '.'))\n",
    "    else:\n",
    "        data.at[j, 'Grüne'] =  np.nan\n",
    "    if(isinstance(hamburg.loc[i, 'FDP'], str)):\n",
    "        data.at[j, 'FDP'] = float((hamburg.loc[i, 'FDP']).replace(',', '.'))\n",
    "    else:\n",
    "        data.at[j, 'FDP'] =  np.nan\n",
    "    if(isinstance(hamburg.loc[i, 'Linke'], str)):\n",
    "        data.at[j, 'Linke'] = float((hamburg.loc[i, 'Linke']).replace(',', '.'))\n",
    "    else:\n",
    "        data.at[j, 'Linke'] =  np.nan\n",
    "    if(isinstance(hamburg.loc[i, 'AfD'], str)):\n",
    "        data.at[j, 'AfD'] = float((hamburg.loc[i, 'AfD']).replace(',', '.'))\n",
    "    else:\n",
    "        data.at[j, 'AfD'] =  np.nan\n",
    "\n",
    "#    data.at[j, 'Piraten'] = float((hamburg.loc[i, 'Piraten']).replace(',', '.'))\n",
    "    data.at[j, 'Piraten'] = 0\n",
    "data1 = data.copy()   \n",
    "for i in range(0, len(dresden)):\n",
    "    j = i + len(data1)\n",
    "    data.at[j, 'Stadt'] = 'Dresden'\n",
    "    data.at[j, 'Stadtteilname'] = dresden.loc[i, 'Stadtteilname']\n",
    "    data.at[j, 'CDU'] = float(dresden.loc[i, 'CDU'])\n",
    "    data.at[j, 'SPD'] = float(dresden.loc[i, 'SPD'])\n",
    "    data.at[j, 'Grüne'] = float(dresden.loc[i, 'Grüne'])\n",
    "    data.at[j, 'FDP'] = float(dresden.loc[i, 'FDP'])\n",
    "    data.at[j, 'AfD'] = float(dresden.loc[i, 'AfD'])\n",
    "    data.at[j, 'Linke'] = float(dresden.loc[i, 'Linke'])\n",
    "    data.at[j, 'Piraten'] = float(dresden.loc[i, 'Piraten'])\n",
    "\n",
    "data.dropna\n",
    "print(len(data))\n",
    "print(len(dresden))\n",
    "print(len(hamburg))\n",
    "print(len(munchen))\n",
    "print(len(frankfurt))\n"
   ]
  },
  {
   "cell_type": "code",
   "execution_count": 196,
   "metadata": {},
   "outputs": [
    {
     "data": {
      "text/plain": [
       "<Figure size 648x648 with 0 Axes>"
      ]
     },
     "metadata": {},
     "output_type": "display_data"
    },
    {
     "data": {
      "image/png": "[encoded data removed]",
      "text/plain": [
       "<Figure size 432x288 with 1 Axes>"
      ]
     },
     "metadata": {
      "needs_background": "light"
     },
     "output_type": "display_data"
    },
    {
     "data": {
      "image/png": "[encoded data removed]",
      "text/plain": [
       "<Figure size 648x648 with 2 Axes>"
      ]
     },
     "metadata": {
      "needs_background": "light"
     },
     "output_type": "display_data"
    }
   ],
   "source": [
    "# Multiple logistic regression to decide Frankfurt, Dresden, Hamburg or München?\n",
    "data_set = data.copy()\n",
    "data_x = data.loc[:, 'CDU':'Piraten']\n",
    "data_y = data_set.loc[:,'Stadt']\n",
    "data_y = data_y.astype('str')\n",
    "drsdn = (data.loc[data['Stadt'].isin(['Dresden'])])\n",
    "hmbrg = (data.loc[data['Stadt'].isin(['Hamburg'])])\n",
    "frnkfrt = (data.loc[data['Stadt'].isin(['Frankfurt'])])\n",
    "mnchn = (data.loc[data['Stadt'].isin(['München'])])\n",
    "columns = ['Stadt', 'CDU', 'SPD', 'Grüne', 'FDP', 'AfD',\n",
    "       'Linke', 'Piraten']\n",
    "means = pd.DataFrame(columns=columns)\n",
    "means.at[0, 'Stadt'] = 'Dresden'\n",
    "means.at[0, 'CDU'] = np.mean(drsdn['CDU'].values)\n",
    "means.at[0, 'SPD'] = np.mean(drsdn['SPD'].values)\n",
    "means.at[0, 'Grüne'] = np.mean(drsdn['Grüne'].values)\n",
    "means.at[0, 'FDP'] = np.mean(drsdn['FDP'].values)\n",
    "means.at[0, 'AfD'] = np.mean(drsdn['AfD'].values)\n",
    "means.at[0, 'Linke'] = np.mean(drsdn['Linke'].values)\n",
    "means.at[0, 'Piraten'] = np.mean(drsdn['Piraten'].values)\n",
    "means.at[1, 'Stadt'] = 'Hamburg'\n",
    "means.at[1, 'CDU'] = np.mean(hmbrg['CDU'].values)\n",
    "means.at[1, 'SPD'] = np.mean(hmbrg['SPD'].values)\n",
    "means.at[1, 'Grüne'] = np.mean(hmbrg['Grüne'].values)\n",
    "means.at[1, 'FDP'] = np.mean(hmbrg['FDP'].values)\n",
    "means.at[1, 'AfD'] = np.mean(hmbrg['AfD'].values)\n",
    "means.at[1, 'Linke'] = np.mean(hmbrg['Linke'].values)\n",
    "means.at[1, 'Piraten'] = np.mean(hmbrg['Piraten'].values)\n",
    "means.at[2, 'Stadt'] = 'Frankfurt'\n",
    "means.at[2, 'CDU'] = np.mean(frnkfrt['CDU'].values)\n",
    "means.at[2, 'SPD'] = np.mean(frnkfrt['SPD'].values)\n",
    "means.at[2, 'Grüne'] = np.mean(frnkfrt['Grüne'].values)\n",
    "means.at[2, 'FDP'] = np.mean(frnkfrt['FDP'].values)\n",
    "means.at[2, 'AfD'] = np.mean(frnkfrt['AfD'].values)\n",
    "means.at[2, 'Linke'] = np.mean(frnkfrt['Linke'].values)\n",
    "means.at[2, 'Piraten'] = np.mean(frnkfrt['Piraten'].values)\n",
    "means.at[3, 'Stadt'] = 'München'\n",
    "means.at[3, 'CDU'] = np.mean(mnchn['CDU'].values)\n",
    "means.at[3, 'SPD'] = np.mean(mnchn['SPD'].values)\n",
    "means.at[3, 'Grüne'] = np.mean(mnchn['Grüne'].values)\n",
    "means.at[3, 'FDP'] = np.mean(mnchn['FDP'].values)\n",
    "means.at[3, 'AfD'] = np.mean(mnchn['AfD'].values)\n",
    "means.at[3, 'Linke'] = np.mean(mnchn['Linke'].values)\n",
    "means.at[3, 'Piraten'] = np.mean(mnchn['Piraten'].values)\n",
    "\n",
    "plt.figure(figsize=(9,9))\n",
    "means.plot(x=\"Stadt\", y=['CDU', 'SPD', 'Grüne', 'FDP', 'AfD',\n",
    "       'Linke', 'Piraten'], kind=\"bar\", color= ['black', 'red', 'green', 'yellow', 'blue', 'pink', 'orange'])\n",
    "plt.ylabel('Election results in %')\n",
    "plt.xlabel('City')\n",
    "plt.title(\"Election results\")\n",
    "plt.savefig('/Users/christine/Desktop/DataScienceProject/Wahlergebnis.png')\n",
    "\n",
    "\n",
    "x_train, x_test, y_train, y_test = train_test_split(data_x, data_y, test_size=0.2, random_state=10000)\n",
    "\n",
    "logisticRegr = LogisticRegression(C=1.0, class_weight=None, dual=False, fit_intercept=True,\n",
    "          intercept_scaling=1, max_iter=100, multi_class='multinomial', n_jobs=1,\n",
    "          penalty='l2', random_state=None, solver='newton-cg', tol=0.0001,\n",
    "          verbose=0, warm_start=False)\n",
    "\n",
    "logisticRegr.fit(x_train, y_train)\n",
    "#print(logisticRegr.classes_)\n",
    "\n",
    "predictions = logisticRegr.predict(x_test)\n",
    "score = logisticRegr.score(x_test, y_test)\n",
    "#print(score)\n",
    "cm = metrics.confusion_matrix(y_test, predictions)\n",
    "plt.figure(figsize=(9,9))\n",
    "sns.heatmap(cm, annot=True, fmt=\".3f\", linewidths=.5, square = True, cmap = 'Blues_r', xticklabels = ['Dresden', 'Frankfurt' ,'Hamburg' ,'München'], yticklabels = ['Dresden', 'Frankfurt' ,'Hamburg' ,'München']);\n",
    "plt.ylabel('Actual label');\n",
    "plt.xlabel('Predicted label');\n",
    "all_sample_title = 'Accuracy Score: {0}'.format(score)\n",
    "plt.title(all_sample_title, size = 15);\n",
    "plt.savefig('/Users/christine/Desktop/DataScienceProject/acurracy.png')\n",
    "#plt.show();\n"
   ]
  },
  {
   "cell_type": "code",
   "execution_count": null,
   "metadata": {},
   "outputs": [],
   "source": []
  },
  {
   "cell_type": "code",
   "execution_count": null,
   "metadata": {},
   "outputs": [],
   "source": []
  },
  {
   "cell_type": "code",
   "execution_count": null,
   "metadata": {},
   "outputs": [],
   "source": []
  }
 ],
 "metadata": {
  "kernelspec": {
   "display_name": "Python 3",
   "language": "python",
   "name": "python3"
  },
  "language_info": {
   "codemirror_mode": {
    "name": "ipython",
    "version": 3
   },
   "file_extension": ".py",
   "mimetype": "text/x-python",
   "name": "python",
   "nbconvert_exporter": "python",
   "pygments_lexer": "ipython3",
   "version": "3.6.8"
  }
 },
 "nbformat": 4,
 "nbformat_minor": 2
}
