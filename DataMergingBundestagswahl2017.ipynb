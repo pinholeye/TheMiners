{
 "cells": [
  {
   "cell_type": "code",
   "execution_count": 94,
   "metadata": {},
   "outputs": [],
   "source": [
    "import pandas as pd\n",
    "import matplotlib as mpl\n",
    "import matplotlib.pyplot as plt\n",
    "import numpy as np\n",
    "from sklearn.model_selection import train_test_split\n",
    "from sklearn.linear_model import LogisticRegression\n",
    "from sklearn.metrics import classification_report, confusion_matrix\n",
    "import seaborn as sns\n",
    "from sklearn import metrics\n",
    "\n",
    "dresden = pd.read_csv('/Users/christine/Desktop/DataScienceProject/DresdenAlles.csv',encoding= 'unicode_escape', sep=';', header=0, error_bad_lines=False)\n",
    "data_bundestagswahl = dresden.loc[dresden['Wahlart'].isin(['Bundestagswahl'])]\n",
    "data_2002 = dresden.loc[dresden['Jahr'].isin(['2002'])]\n",
    "data_2002.index = range(len(data_2002))\n",
    "data_2005 = dresden.loc[dresden['Jahr'].isin(['2005'])]\n",
    "data_2005.index = range(len(data_2005))\n",
    "data_2009 = dresden.loc[dresden['Jahr'].isin(['2009'])]\n",
    "data_2009.index = range(len(data_2009))\n",
    "data_2013 = dresden.loc[dresden['Jahr'].isin(['2013'])]\n",
    "data_2013.index = range(len(data_2013))\n",
    "data_2017 = dresden.loc[dresden['Jahr'].isin(['2017'])]\n",
    "data_2017.index = range(len(data_2017))\n",
    "\n",
    "data_2002.to_csv('/Users/christine/Desktop/Dresden2002.csv', sep=',', encoding='utf-8')\n",
    "data_2005.to_csv('/Users/christine/Desktop/Dresden2005.csv', sep=',', encoding='utf-8')\n",
    "data_2009.to_csv('/Users/christine/Desktop/Dresden2009.csv', sep=',', encoding='utf-8')\n",
    "data_2013.to_csv('/Users/christine/Desktop/Dresden2013.csv', sep=',', encoding='utf-8')\n",
    "data_2017.to_csv('/Users/christine/Desktop/Dresden2017.csv', sep=',', encoding='utf-8')"
   ]
  },
  {
   "cell_type": "code",
   "execution_count": 100,
   "metadata": {},
   "outputs": [],
   "source": [
    "#Hamburg\n",
    "hamburg = pd.read_csv('/Users/christine/Desktop/DataScienceProject/Hamburg2017Prozente.csv',encoding= 'unicode_escape', sep=',', header=1)\n",
    "hamburg.columns =[\"Stadtteilname\", \"Wahlbeteiligung\", \"CDU\", \"SPD\", \"Grüne\", \"FDP\", \"Linke\", 'AfD', 'Piraten']\n",
    "hamburgset = hamburg[['Stadtteilname', 'CDU', 'SPD', 'Grüne', 'FDP', 'AfD',\n",
    "       'Linke', 'Piraten']]\n",
    "hamburgset.to_csv('/Users/christine/Desktop/DataScienceProject/Hamburg2017Prozente.csv', sep=',', encoding='utf-8')"
   ]
  },
  {
   "cell_type": "code",
   "execution_count": 101,
   "metadata": {},
   "outputs": [],
   "source": [
    "#Dresden\n",
    "dresden = pd.read_csv('/Users/christine/Desktop/DataScienceProject/Dresden2017.csv',encoding= 'unicode_escape', sep=',', header=0)\n",
    "dresden.columns =['index','Jahr','Wahlart','Wahlbezirk','Stadtteil zus.','Stadtteilname','Stadtbezirk mit zugeordneten Ortschaften','Wahl-Form','Wahlberechtigte','Wahlberechtigte mit WS','Whler','Whler mit WS','Stimmen g','CDU','SPD','Linke','Grüne','FDP','Rechte Parteien','AfD','Piraten','Stimmen sonstiger Parteien','Stimmen ung']\n",
    "dresdenset = dresden[['Stadtteilname', 'CDU', 'SPD', 'Grüne', 'FDP', 'AfD', 'Linke','Piraten']]\n",
    "for i in range(0,len(dresden)):\n",
    "    dresdenset.at[i, 'CDU'] = (dresdenset.loc[i, 'CDU'] / dresden.loc[i, 'Stimmen g']) * 100\n",
    "    dresdenset.at[i, 'SPD'] = (dresdenset.loc[i, 'SPD'] / dresden.loc[i, 'Stimmen g']) * 100\n",
    "    dresdenset.at[i, 'FDP'] = (dresdenset.loc[i, 'FDP'] / dresden.loc[i, 'Stimmen g']) * 100\n",
    "    dresdenset.at[i, 'AfD'] = (dresdenset.loc[i, 'AfD'] / dresden.loc[i, 'Stimmen g']) * 100\n",
    "    dresdenset.at[i, 'Grüne'] = (dresdenset.loc[i, 'Grüne'] / dresden.loc[i, 'Stimmen g']) * 100\n",
    "    dresdenset.at[i, 'Linke'] = (dresdenset.loc[i, 'Linke'] / dresden.loc[i, 'Stimmen g']) * 100\n",
    "    dresdenset.at[i, 'Piraten'] = (dresdenset.loc[i, 'Piraten'] / dresden.loc[i, 'Stimmen g']) * 100\n",
    "dresdenset.to_csv('/Users/christine/Desktop/DataScienceProject/Dresden2017Prozente.csv', sep=',', encoding='utf-8')   "
   ]
  },
  {
   "cell_type": "code",
   "execution_count": 102,
   "metadata": {},
   "outputs": [],
   "source": [
    "#Frankfurt\n",
    "frankfurt = pd.read_csv('/Users/christine/Desktop/DataScienceProject/Frankfurt2017.csv',encoding= 'unicode_escape', sep=';', header=0)\n",
    "frankfurtset = frankfurt[['Stadtteilname', 'Anteil CDU', 'Anteil SPD', 'Anteil GRNE', 'Anteil FDP', 'Anteil AfD', 'Anteil DIE LINKE','Anteil PIRATEN']]\n",
    "frankfurtset.columns = ['Stadtteilname', 'CDU', 'SPD', 'Grüne', 'FDP', 'AfD', 'Linke','Piraten']\n",
    "frankfurtset.to_csv('/Users/christine/Desktop/DataScienceProject/Frankfurt2017Prozente.csv', sep=',', encoding='utf-8')   "
   ]
  },
  {
   "cell_type": "code",
   "execution_count": 103,
   "metadata": {},
   "outputs": [],
   "source": [
    "#München\n",
    "munchen = pd.read_csv('/Users/christine/Desktop/DataScienceProject/München2017.csv',encoding= 'unicode_escape', sep=';', header=0)\n",
    "munchenset = munchen[['Gebietsnummer', 'Anteil CSU', 'Anteil SPD', 'Anteil GRÌÏNE', 'Anteil FDP', 'Anteil AfD', 'Anteil DIE LINKE','Anteil PIRATEN']]\n",
    "munchenset.columns = ['Stadtteilname', 'CDU', 'SPD', 'Grüne', 'FDP', 'AfD', 'Linke','Piraten']\n",
    "munchenset.to_csv('/Users/christine/Desktop/DataScienceProject/München2017Prozente.csv', sep=',', encoding='utf-8') "
   ]
  },
  {
   "cell_type": "code",
   "execution_count": null,
   "metadata": {},
   "outputs": [],
   "source": []
  },
  {
   "cell_type": "code",
   "execution_count": null,
   "metadata": {},
   "outputs": [],
   "source": []
  }
 ],
 "metadata": {
  "kernelspec": {
   "display_name": "Python 3",
   "language": "python",
   "name": "python3"
  },
  "language_info": {
   "codemirror_mode": {
    "name": "ipython",
    "version": 3
   },
   "file_extension": ".py",
   "mimetype": "text/x-python",
   "name": "python",
   "nbconvert_exporter": "python",
   "pygments_lexer": "ipython3",
   "version": "3.6.8"
  }
 },
 "nbformat": 4,
 "nbformat_minor": 2
}
